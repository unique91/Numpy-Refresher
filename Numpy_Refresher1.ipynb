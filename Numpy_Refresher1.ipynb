{
  "nbformat": 4,
  "nbformat_minor": 0,
  "metadata": {
    "colab": {
      "provenance": [],
      "authorship_tag": "ABX9TyP4sFdJQeEaB+NkfrWzLoKk",
      "include_colab_link": true
    },
    "kernelspec": {
      "name": "python3",
      "display_name": "Python 3"
    },
    "language_info": {
      "name": "python"
    }
  },
  "cells": [
    {
      "cell_type": "markdown",
      "metadata": {
        "id": "view-in-github",
        "colab_type": "text"
      },
      "source": [
        "<a href=\"https://colab.research.google.com/github/unique91/Numpy-Refresher/blob/main/Numpy_Refresher1.ipynb\" target=\"_parent\"><img src=\"https://colab.research.google.com/assets/colab-badge.svg\" alt=\"Open In Colab\"/></a>"
      ]
    },
    {
      "cell_type": "code",
      "execution_count": 2,
      "metadata": {
        "colab": {
          "base_uri": "https://localhost:8080/"
        },
        "id": "eWOT5AnHIjnA",
        "outputId": "3061678b-d2ca-416f-e087-feefa60c2f33"
      },
      "outputs": [
        {
          "output_type": "stream",
          "name": "stdout",
          "text": [
            "72\n"
          ]
        },
        {
          "output_type": "execute_result",
          "data": {
            "text/plain": [
              "['as_integer_ratio',\n",
              " 'bit_count',\n",
              " 'bit_length',\n",
              " 'conjugate',\n",
              " 'denominator',\n",
              " 'from_bytes',\n",
              " 'imag',\n",
              " 'numerator',\n",
              " 'real',\n",
              " 'to_bytes']"
            ]
          },
          "metadata": {},
          "execution_count": 2
        }
      ],
      "source": [
        "# Datatypes in python are objects with lots of properties and methods\n",
        "a = 3\n",
        "print(len(dir(a)))\n",
        "dir(a)[-10:]"
      ]
    },
    {
      "cell_type": "code",
      "source": [
        "# NumPy stands for numerical python and provides a richt collection of operations for numerical data types\n",
        "# Points array\n",
        "pt = [[0, 1], [10, 5], [7, 3]]\n",
        "\n",
        "# Random points\n",
        "from random import randint\n",
        "num_pt = 5\n",
        "x_range = (0, 20)\n",
        "y_range = (0, 30)\n",
        "pt = [[randint(*x_range), randint(*y_range)] for _ in range(num_pt)]\n"
      ],
      "metadata": {
        "id": "wMrCaKhyJRsO"
      },
      "execution_count": 25,
      "outputs": []
    },
    {
      "cell_type": "code",
      "source": [
        "# Convert python list to a numpy ndarray\n",
        "import numpy as np\n",
        "pt = np.array(pt)"
      ],
      "metadata": {
        "id": "qlifqGIrJURU"
      },
      "execution_count": 19,
      "outputs": []
    },
    {
      "cell_type": "code",
      "source": [
        "# Random points by using numpy library\n",
        "x_range = (0, 10)\n",
        "y_range = (0, 50)\n",
        "pt = np.random.randint(low=(x_range[0], y_range[0]), high=(x_range[1], y_range[1]), size=(10, 2))"
      ],
      "metadata": {
        "id": "CZrNNoKHBQY-"
      },
      "execution_count": 20,
      "outputs": []
    },
    {
      "cell_type": "code",
      "source": [
        "# Performance\n",
        "# 1 Python\n",
        "%timeit \\\n",
        "pt = [[randint(*x_range), randint(*y_range)] for _ in range(100000)]"
      ],
      "metadata": {
        "colab": {
          "base_uri": "https://localhost:8080/"
        },
        "id": "8fk67RRnC9zs",
        "outputId": "97101862-8bac-46b2-bbc8-849b52d3ab49"
      },
      "execution_count": 22,
      "outputs": [
        {
          "output_type": "stream",
          "name": "stdout",
          "text": [
            "116 ms ± 24.9 ms per loop (mean ± std. dev. of 7 runs, 10 loops each)\n"
          ]
        }
      ]
    },
    {
      "cell_type": "code",
      "source": [
        "# 2. NumPy\n",
        "%timeit \\\n",
        "pt = np.random.randint(low=(x_range[0], y_range[0]), high=(x_range[1], y_range[1]), size=(100000, 2))"
      ],
      "metadata": {
        "colab": {
          "base_uri": "https://localhost:8080/"
        },
        "id": "KSJ6TMiUC-wt",
        "outputId": "c703c02f-2476-4b6f-ad99-2e765ef2a989"
      },
      "execution_count": 30,
      "outputs": [
        {
          "output_type": "stream",
          "name": "stdout",
          "text": [
            "3.7 ms ± 81 µs per loop (mean ± std. dev. of 7 runs, 100 loops each)\n"
          ]
        }
      ]
    },
    {
      "cell_type": "code",
      "source": [
        "# Converting Lists to Arrays\n",
        "py_list = [1, 2, 3, 4, 5, 6]\n",
        "np_array = np.array(py_list)\n",
        "# print(py_list)\n",
        "# np_array\n",
        "\n",
        "py_list2 =  [[1, 2, 3, 4, 5], [6, 7, 8, 9, 10], [11, 12, 13, 14, 15]]\n",
        "np_array2 = np.array(py_list2)\n",
        "# print(py_list2)\n",
        "print(np_array2 , '\\n')\n",
        "\n",
        "# Slicing and Indexing\n",
        "print('First row:\\t\\t\\t{}\\n'.format(np_array2[0]))\n",
        "print('First row:\\t\\t\\t{}\\n'.format(np_array2[0, :]))\n",
        "print('First column:\\t\\t\\t{}\\n'.format(np_array2[:, 0]))\n",
        "print('3rd row 2nd column element:\\t{}\\n'.format(np_array2[2, 1]))\n",
        "print('Last 2 rows and last 2 columns\\n{}\\n'.format(np_array2[-2:, -2:]))\n",
        "print('Array with 1st and 3rd col:\\n{}\\n'.format(np_array2[:, [0, 2]]))\n",
        "\n",
        "# Basic attributes of Numpy arrays\n",
        "def array_info(arr):\n",
        "  print(\"Array:\\n{}\".format(arr))\n",
        "  print(\"Data type:\\t{}\".format(arr.dtype))\n",
        "  print(\"Array shape:\\t{}\".format(arr.shape))"
      ],
      "metadata": {
        "id": "8c3xWCqKFZ7m"
      },
      "execution_count": null,
      "outputs": []
    },
    {
      "cell_type": "code",
      "source": [
        "from numpy.core.numeric import array_equal\n",
        "# Creating NumPy arrays using built-in functions and datatypes\n",
        "\n",
        "# Sequence array\n",
        "arr = np.arange(10, dtype=np.int64)\n",
        "array_info(arr)\n",
        "\n",
        "# linspace(start, stop, num=50, endpoint=True, retstep=False, dtype=None, axis=0)\n",
        "linespace = np.linspace(0, 10, 3, dtype=np.float32)  # 3 elements between 0-10\n",
        "array_info(linespace)\n",
        "\n",
        "# Zero array/matrix\n",
        "zeros = np.zeros((2, 3), dtype=np.float32)\n",
        "array_info(zeros)\n",
        "\n",
        "# Ones Array\n",
        "ones = np.ones((3, 2), dtype=np.int8)\n",
        "array_info(ones)\n",
        "\n",
        "# Identity array/matrix\n",
        "identity = np.eye(5, dtype=np.float32)\n",
        "array_info(identity)\n",
        "\n",
        "# Constat array/matrix\n",
        "const_arr = np.full((3, 3), 9.81)\n",
        "array_info(const_arr)\n",
        "\n",
        "# Random integers array/matrix\n",
        "rand_int = np.random.randint(5, 10, (2, 3))  # 2x3, values lies in [5, 10]\n",
        "array_info(rand_int)\n",
        "\n",
        "# Random array\n",
        "random_array = np.random.random((4, 4))\n",
        "array_info(random_array)\n",
        "\n",
        "# Boolean array\n",
        "bool_array = random_array > 0.5\n",
        "array_info(bool_array)"
      ],
      "metadata": {
        "id": "zUSWRtBVJ-fn"
      },
      "execution_count": null,
      "outputs": []
    },
    {
      "cell_type": "code",
      "source": [
        "# Data Types conversion\n",
        "age_in_years = np.random.randint(0, 100, 10)\n",
        "# Convert to uint8\n",
        "age_in_years = age_in_years.astype(np.uint8)\n",
        "array_info(age_in_years)\n",
        "# Convert to float64\n",
        "age_in_years = age_in_years.astype(np.float64)\n",
        "array_info(age_in_years)"
      ],
      "metadata": {
        "id": "qxM83Ur-ODr-"
      },
      "execution_count": null,
      "outputs": []
    }
  ]
}