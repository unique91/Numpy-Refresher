{
  "nbformat": 4,
  "nbformat_minor": 0,
  "metadata": {
    "colab": {
      "provenance": [],
      "authorship_tag": "ABX9TyNlqe4vcAKWPBiTK9gOUUTt",
      "include_colab_link": true
    },
    "kernelspec": {
      "name": "python3",
      "display_name": "Python 3"
    },
    "language_info": {
      "name": "python"
    }
  },
  "cells": [
    {
      "cell_type": "markdown",
      "metadata": {
        "id": "view-in-github",
        "colab_type": "text"
      },
      "source": [
        "<a href=\"https://colab.research.google.com/github/unique91/Numpy-Refresher/blob/main/Numpy_Refresher1.ipynb\" target=\"_parent\"><img src=\"https://colab.research.google.com/assets/colab-badge.svg\" alt=\"Open In Colab\"/></a>"
      ]
    },
    {
      "cell_type": "code",
      "execution_count": 2,
      "metadata": {
        "colab": {
          "base_uri": "https://localhost:8080/"
        },
        "id": "eWOT5AnHIjnA",
        "outputId": "3061678b-d2ca-416f-e087-feefa60c2f33"
      },
      "outputs": [
        {
          "output_type": "stream",
          "name": "stdout",
          "text": [
            "72\n"
          ]
        },
        {
          "output_type": "execute_result",
          "data": {
            "text/plain": [
              "['as_integer_ratio',\n",
              " 'bit_count',\n",
              " 'bit_length',\n",
              " 'conjugate',\n",
              " 'denominator',\n",
              " 'from_bytes',\n",
              " 'imag',\n",
              " 'numerator',\n",
              " 'real',\n",
              " 'to_bytes']"
            ]
          },
          "metadata": {},
          "execution_count": 2
        }
      ],
      "source": [
        "# Datatypes in python are objects with lots of properties and methods\n",
        "a = 3\n",
        "print(len(dir(a)))\n",
        "dir(a)[-10:]"
      ]
    },
    {
      "cell_type": "code",
      "source": [
        "# NumPy stands for numerical python and provides a richt collection of operations for numerical data types\n",
        "# Points array\n",
        "pt = [[0, 1], [10, 5], [7, 3]]\n",
        "\n",
        "# Random points\n",
        "from random import randint\n",
        "num_pt = 5\n",
        "x_range = (0, 20)\n",
        "y_range = (0, 30)\n",
        "pt = [[randint(*x_range), randint(*y_range)] for _ in range(num_pt)]\n"
      ],
      "metadata": {
        "colab": {
          "base_uri": "https://localhost:8080/"
        },
        "id": "wMrCaKhyJRsO",
        "outputId": "32b302b3-8998-4ec6-aab4-8810e594dbaf"
      },
      "execution_count": 10,
      "outputs": [
        {
          "output_type": "execute_result",
          "data": {
            "text/plain": [
              "[[20, 16], [2, 29], [20, 3], [6, 23], [9, 14]]"
            ]
          },
          "metadata": {},
          "execution_count": 10
        }
      ]
    },
    {
      "cell_type": "code",
      "source": [
        "# Convert python list to a numpy ndarray\n",
        "import numpy as np\n",
        "pt = np.array(pt)\n",
        "pt"
      ],
      "metadata": {
        "colab": {
          "base_uri": "https://localhost:8080/"
        },
        "id": "qlifqGIrJURU",
        "outputId": "9cfe4713-fb05-4912-99f2-f95b73f609cc"
      },
      "execution_count": 11,
      "outputs": [
        {
          "output_type": "execute_result",
          "data": {
            "text/plain": [
              "array([[20, 16],\n",
              "       [ 2, 29],\n",
              "       [20,  3],\n",
              "       [ 6, 23],\n",
              "       [ 9, 14]])"
            ]
          },
          "metadata": {},
          "execution_count": 11
        }
      ]
    }
  ]
}