{
  "nbformat": 4,
  "nbformat_minor": 0,
  "metadata": {
    "colab": {
      "provenance": [],
      "authorship_tag": "ABX9TyOHnXs4sCYiwfHHyi3Xf3vN",
      "include_colab_link": true
    },
    "kernelspec": {
      "name": "python3",
      "display_name": "Python 3"
    },
    "language_info": {
      "name": "python"
    }
  },
  "cells": [
    {
      "cell_type": "markdown",
      "metadata": {
        "id": "view-in-github",
        "colab_type": "text"
      },
      "source": [
        "<a href=\"https://colab.research.google.com/github/unique91/Numpy-Refresher/blob/main/Numpy_Refresher2.ipynb\" target=\"_parent\"><img src=\"https://colab.research.google.com/assets/colab-badge.svg\" alt=\"Open In Colab\"/></a>"
      ]
    },
    {
      "cell_type": "code",
      "execution_count": null,
      "metadata": {
        "id": "2sEM6C_hbEF-"
      },
      "outputs": [],
      "source": [
        "import numpy as np\n",
        "\n",
        "def array_info(array):\n",
        "  print('Array:\\n{}'.format(array))\n",
        "  print('Data type:\\t{}'.format(array.dtype))\n",
        "  print('Array shape:\\t{}'.format(array.shape))\n",
        "  print('Array Dim:\\t{}\\n'.format(array.ndim))\n",
        "\n",
        "# Reshape (important concept for machine learning and computer vision!)\n",
        "# Reshaping an array changes the shape of the data without altering the data itself. Reshaping arrays requires that the number of data elements remains constant.\n",
        "\n",
        "# 1D array\n",
        "arr = np.arange(1, 10, dtype=int)\n",
        "array_info(arr)\n",
        "print(\"arr[3] = \", arr[3])\n",
        "\n",
        "# Reshape the 1D array to a (1x10) 2D array.\n",
        "arr = arr.reshape(1, 9)  # same(1, -1)\n",
        "array_info(arr)\n",
        "print(\"arr[0] = \", arr[0])\n",
        "print(\"arr[0, 3] = \", arr[0, 3])\n",
        "\n",
        "# We can reshape the arry into any shape that are factor of 9 (1x9), (3x3), (9x1)\n",
        "\n",
        "# Reshaping Multi-Demensional Arrays\n",
        "arrN = np.array([\n",
        "    [[10, 11], [10, 12], [10, 13], [10, 14], [10, 15]],\n",
        "    [[20, 21], [20, 22], [20, 23], [20, 24], [20, 25]],\n",
        "    [[30, 31], [30, 32], [30, 33], [30, 34], [30, 35]],\n",
        "])\n",
        "array_info(arrN)\n",
        "print(\"arrN[0,0,:] = \", arrN[0,0,:])\n",
        "arrN = arrN.reshape(3, 10)\n",
        "array_info(arrN)"
      ]
    },
    {
      "cell_type": "code",
      "source": [
        "from numpy.core.multiarray import array\n",
        "# Adding an Axis / Dimension\n",
        "arr = np.arange(1, 10, dtype=int)\n",
        "arr = arr.reshape(3, 3)\n",
        "array_info(arr)\n",
        "\n",
        "# Add a new axis to the (3x3) array to create a 3D array -> (1x3x3)\n",
        "arrN = arr.reshape(1, 3, 3)\n",
        "array_info(arrN)\n",
        "\n",
        "# Expand Dimensions\n",
        "# reshape or expand_dims or np.newaxis do the same thing\n",
        "arr2 = np.arange(1, 10, dtype=int)\n",
        "# Reshape to (3x3)\n",
        "arr2 = arr2.reshape(3, 3)\n",
        "array_info(arr2)\n",
        "# Expand dimensions\n",
        "arr3 = np.expand_dims(arr2, axis=0)\n",
        "array_info(arr3)\n",
        "# Expand dimensions with newaxis\n",
        "arr4 = arr2[np.newaxis, :, :]\n",
        "array_info(arr4)\n",
        "\n",
        "# Squeeze (Remove redundant axis)\n",
        "arr = np.arange(1, 10, dtype=int)\n",
        "arr = arr.reshape(1, 3, 3)\n",
        "array_info(arr)\n",
        "arr_squeezed = np.squeeze(arr, axis=0)\n",
        "array_info(arr_squeezed)\n",
        "\n",
        "# Reshape Revisit\n",
        "arr5 = np.arange(10)\n",
        "arr5 = arr5.reshape(-1, 2) # two columns\n",
        "array_info(arr5)\n",
        "arr6 = arr5.copy()\n",
        "arr6 = arr6.reshape(2, -1) # two rows\n",
        "array_info(arr6)"
      ],
      "metadata": {
        "id": "DnLwvGJ1bSqd"
      },
      "execution_count": null,
      "outputs": []
    },
    {
      "cell_type": "code",
      "source": [
        "# Flattening Arrays\n",
        "# Create three separate (4x4) arrays\n",
        "h1 = np.full((4, 4), 1, dtype='float32')\n",
        "h2 = np.full((4, 4), 2, dtype='float32')\n",
        "h3 = np.full((4, 4), 3, dtype='float32')\n",
        "\n",
        "# Create a (3x4x4) array\n",
        "h = np.zeros((3, 4, 4))\n",
        "h[0] = h1\n",
        "h[1] = h2\n",
        "h[2] = h3\n",
        "array_info(h)\n",
        "\n",
        "h = h.reshape(1, 3, 16)\n",
        "array_info(h)"
      ],
      "metadata": {
        "id": "GBSYmAQChdxv"
      },
      "execution_count": null,
      "outputs": []
    },
    {
      "cell_type": "code",
      "source": [
        "# Combining Arrays / Matrices\n",
        "\n",
        "# 1. Method (Concatenate)\n",
        "arr = np.array([[1, 2, 3], [4, 5, 6]])\n",
        "arr2 = np.array([[7, 8, 9]])\n",
        "arr_concat = np.concatenate((arr, arr2), axis=0)\n",
        "array_info(arr_concat)\n",
        "\n",
        "# Horizontal/Vertical Stack\n",
        "arr3 = np.array([[1, 1, 1], [2, 2, 2]])\n",
        "arr4 = np.array([[3, 3, 3], [4, 4, 4]])\n",
        "\n",
        "h_stack = np.hstack((arr3, arr4))\n",
        "v_stack = np.vstack((arr3, arr4))\n",
        "\n",
        "print(\"Horizontal stack:\")\n",
        "array_info(h_stack)\n",
        "print(\"Vertical stack:\")\n",
        "array_info(v_stack)"
      ],
      "metadata": {
        "colab": {
          "base_uri": "https://localhost:8080/"
        },
        "id": "bQpCsLuzi6tx",
        "outputId": "972d43eb-4407-4a3d-c31f-567d25c5858b"
      },
      "execution_count": 27,
      "outputs": [
        {
          "output_type": "stream",
          "name": "stdout",
          "text": [
            "Array:\n",
            "[[1 2 3]\n",
            " [4 5 6]\n",
            " [7 8 9]]\n",
            "Data type:\tint64\n",
            "Array shape:\t(3, 3)\n",
            "Array Dim:\t2\n",
            "\n",
            "Horizontal stack: \n",
            "Array:\n",
            "[[1 1 1 3 3 3]\n",
            " [2 2 2 4 4 4]]\n",
            "Data type:\tint64\n",
            "Array shape:\t(2, 6)\n",
            "Array Dim:\t2\n",
            "\n",
            "Vertical stack: \n",
            "Array:\n",
            "[[1 1 1]\n",
            " [2 2 2]\n",
            " [3 3 3]\n",
            " [4 4 4]]\n",
            "Data type:\tint64\n",
            "Array shape:\t(4, 3)\n",
            "Array Dim:\t2\n",
            "\n"
          ]
        }
      ]
    }
  ]
}