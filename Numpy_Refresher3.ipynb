{
  "nbformat": 4,
  "nbformat_minor": 0,
  "metadata": {
    "colab": {
      "provenance": [],
      "authorship_tag": "ABX9TyMkZgMvj8PNv9gFkXhnYqmv",
      "include_colab_link": true
    },
    "kernelspec": {
      "name": "python3",
      "display_name": "Python 3"
    },
    "language_info": {
      "name": "python"
    }
  },
  "cells": [
    {
      "cell_type": "markdown",
      "metadata": {
        "id": "view-in-github",
        "colab_type": "text"
      },
      "source": [
        "<a href=\"https://colab.research.google.com/github/unique91/Numpy-Refresher/blob/main/Numpy_Refresher3.ipynb\" target=\"_parent\"><img src=\"https://colab.research.google.com/assets/colab-badge.svg\" alt=\"Open In Colab\"/></a>"
      ]
    },
    {
      "cell_type": "code",
      "execution_count": 2,
      "metadata": {
        "id": "7sA26tm8EMBp"
      },
      "outputs": [],
      "source": [
        "import numpy as np\n",
        "\n",
        "def array_info(array):\n",
        "    print('Array:\\n{}'.format(array))\n",
        "    print('Data type:\\t{}'.format(array.dtype))\n",
        "    print('Array shape:\\t{}'.format(array.shape))\n",
        "    print('Array Dim:\\t{}\\n'.format(array.ndim))"
      ]
    },
    {
      "cell_type": "code",
      "source": [
        "# Element-Wise Operations\n",
        "# Two random arrays\n",
        "arr1 = np.random.random((3, 3))\n",
        "arr2 = np.random.random((3, 3))\n",
        "array_info(arr1)\n",
        "array_info(arr2)\n",
        "\n",
        "# Scalar Addition, Subtraction, Multiplication and Division\n",
        "# arr1 + 3\n",
        "# arr1 - 3\n",
        "# arr1 * 3\n",
        "# arr1 / 2\n",
        "\n",
        "# Array Addition, Subtraction, Multiplication and Division\n",
        "# arr1 + arr2\n",
        "# arr1 - arr2\n",
        "# arr1 * arr2\n",
        "# arr1 / arr2\n",
        "# Hint: Dimension of both array are equal in the above array element-wise operations.\n",
        "# Otherwise we have a ValueError: operands could not be broadcast together!\n",
        "\n",
        "# General Broadcasting Rule\n",
        "# Two dimensions are compatible when they are equal, or one of them is 1.\n",
        "a = np.array([[1, 2, 3], [4, 5, 6],[7, 8, 9]])\n",
        "b = np.array([0, 1, 0])\n",
        "array_info(a + b)"
      ],
      "metadata": {
        "id": "4orMnkegEWyE"
      },
      "execution_count": null,
      "outputs": []
    },
    {
      "cell_type": "code",
      "source": [
        "# Linear Algebra\n",
        "# Transpose\n",
        "arr = np.random.random((2, 3))\n",
        "array_info(arr)\n",
        "arr_T = arr.transpose()\n",
        "array_info(arr_T)\n",
        "\n",
        "# Matrix Multiplication\n",
        "m1 = np.random.random((3, 4))\n",
        "m2 = np.random.random((4, 2))\n",
        "mult = np.matmul(m1, m2)  # or mult = m1@m2\n",
        "array_info(mult)\n",
        "print('{} x {} --> {}'.format(m1.shape, m2.shape, mult.shape))\n",
        "\n",
        "# Matrix Inverse\n",
        "arr = np.random.random((3, 3))\n",
        "array_info(arr)\n",
        "arr_Inv = np.linalg.inv(arr)\n",
        "array_info(arr_Inv)\n",
        "print('\"A x A_inv = Identity\" should be true:')\n",
        "array_info(np.matmul(arr, arr_Inv))\n",
        "\n",
        "# Dot Product\n",
        "arr1 = np.array([1, 2, 3, 4])\n",
        "arr2 = np.array([5, 6, 7, 8])\n",
        "arr_dot = np.dot(arr1, arr2)\n",
        "array_info(arr_dot)"
      ],
      "metadata": {
        "id": "BR62v1AZH79z"
      },
      "execution_count": null,
      "outputs": []
    },
    {
      "cell_type": "code",
      "source": [
        "# Array Statistics\n",
        "arr = np.array([1, 2, 3, 4, 5])\n",
        "print(arr.sum())\n",
        "\n",
        "# Sum Along Axis\n",
        "arr2 = np.array([[1, 2, 3], [4, 5, 6]])\n",
        "array_info(arr2)\n",
        "print('sum along axis=0: ', arr2.sum(axis = 0))\n",
        "print('sum along axis=1: ', arr2.sum(axis = 1))\n",
        "\n",
        "# Maximum and Minimum\n",
        "arr3 = np.array([[-3, 2, 5], [1, -6, 9]])\n",
        "print('Minimum = ', arr3.min())\n",
        "print('Maximum = ', arr3.max())\n",
        "print('Minimum along axis 0 = ', arr3.min(0))\n",
        "print('Maximum along axis 1 = ', arr3.max(1))\n",
        "\n",
        "# Mean and Standard Deviation\n",
        "data = np.array([1.2, 2.3, 5.0, 3.3, 1.4, 5.6])\n",
        "print('Mean of the array               = {:8.6f}'.format(data.mean()))\n",
        "print('Standard deviation of the array = {:8.6f}'.format(data.std()))\n",
        "\n",
        "# Standardizing an Array (mean = 0 and std = 1)\n",
        "standardized_array = (data - data.mean()) / data.std()\n",
        "print('Standardized Array = ', standardized_array)\n",
        "print('Mean               = {:8.6f}'.format(standardized_array.mean()))\n",
        "print('Standard deviation = {:8.6f}'.format(standardized_array.std()))"
      ],
      "metadata": {
        "colab": {
          "base_uri": "https://localhost:8080/"
        },
        "id": "wfBRf-iXWSuc",
        "outputId": "0b4c9bd7-719b-4773-e1cf-e54837f97940"
      },
      "execution_count": 22,
      "outputs": [
        {
          "output_type": "stream",
          "name": "stdout",
          "text": [
            "15\n",
            "Array:\n",
            "[[1 2 3]\n",
            " [4 5 6]]\n",
            "Data type:\tint64\n",
            "Array shape:\t(2, 3)\n",
            "Array Dim:\t2\n",
            "\n",
            "sum along axis=0:  [5 7 9]\n",
            "sum along axis=1:  [ 6 15]\n",
            "Minimum =  -6\n",
            "Maximum =  9\n",
            "Minimum along axis 0 =  [-3 -6  5]\n",
            "Maximum along axis 1 =  [5 9]\n",
            "Mean of the array               = 3.133333\n",
            "Standard deviation of the array = 1.684900\n",
            "Standardized Array =  [-1.14744675 -0.49458912  1.10787962  0.09891782 -1.02874536  1.46398379]\n",
            "Mean               = -0.000000\n",
            "Standard deviation = 1.000000\n"
          ]
        }
      ]
    }
  ]
}